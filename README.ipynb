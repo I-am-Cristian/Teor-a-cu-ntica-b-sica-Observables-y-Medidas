{
 "cells": [
  {
   "cell_type": "markdown",
   "metadata": {},
   "source": [
    "# ***Simule el primer sistema cuántico descrito en la sección 4.1.***\n",
    "\n",
    "El sistema consiste en una partícula confinada a un conjunto discreto de posiciones en una línea. El simulador debe permitir especificar el número de posiciones y un vector ket de estado asignando las amplitudes.\n",
    "\n",
    "1. El sistema debe calcular la probabilidad de encontrarlo en una posición en particular."
   ]
  },
  {
   "cell_type": "code",
   "execution_count": 5,
   "metadata": {},
   "outputs": [
    {
     "name": "stdout",
     "output_type": "stream",
     "text": [
      "La probabilidad de encontrar la partícula en la posición dada es: 0.12363636363636361\n"
     ]
    }
   ],
   "source": [
    "import numpy as np\n",
    "\n",
    "# Función para calcular la norma de un vector\n",
    "def calcular_norma(vector):\n",
    "    return np.linalg.norm(vector)\n",
    "\n",
    "# Función para calcular la probabilidad de encontrar la partícula en una posición dada\n",
    "def probabilidad_en_posicion(estado_cuantico, posicion):\n",
    "    numerador = calcular_norma(estado_cuantico[posicion]) ** 2\n",
    "    denominador = calcular_norma(estado_cuantico) ** 2\n",
    "    return numerador / denominador\n",
    "\n",
    "def main():\n",
    "    # Vector \n",
    "    estado_cuantico = np.array([[8-3j], [5+1j], [3-2j], [6+7j],[5-3j],[1+3j],[5+3j]])\n",
    "\n",
    "    # Calcular la probabilidad en la posición 6\n",
    "    probabilidad = probabilidad_en_posicion(estado_cuantico, 6)\n",
    "    print(\"La probabilidad de encontrar la partícula en la posición dada es:\", probabilidad)\n",
    "\n",
    "main()"
   ]
  },
  {
   "cell_type": "markdown",
   "metadata": {},
   "source": [
    "2. El sistema si se le da otro vector Ket debe buscar la probabilidad de transitar del primer vector al segundo."
   ]
  },
  {
   "cell_type": "code",
   "execution_count": 1,
   "metadata": {},
   "outputs": [
    {
     "name": "stdout",
     "output_type": "stream",
     "text": [
      "La probabilidad de transitar del vector [2.+4.j 0.+2.j] al vector [9.+2.j 4.-6.j] es: 0.5462287104622872\n"
     ]
    }
   ],
   "source": [
    "import numpy as np\n",
    "\n",
    "def vector_norm(vec):\n",
    "    \"\"\"Calcula la norma de un vector.\"\"\"\n",
    "    return np.linalg.norm(vec)\n",
    "\n",
    "def conjugate_transpose(vec):\n",
    "    \"\"\"Devuelve el conjugado del transpuesto de un vector.\"\"\"\n",
    "    return np.conjugate(vec.T)\n",
    "\n",
    "def transition_probability(state_a, state_b):\n",
    "    \"\"\"Calcula la probabilidad de transición entre dos estados.\"\"\"\n",
    "    bra_b = conjugate_transpose(state_b)\n",
    "    norm_a = vector_norm(state_a)\n",
    "    norm_b = vector_norm(state_b)\n",
    "    \n",
    "    # Probabilidad de transición\n",
    "    prob_amplitude = np.dot(bra_b, state_a)[0][0]  # Solo el primer elemento\n",
    "    probability = np.abs(prob_amplitude) ** 2 / (norm_a * norm_b) ** 2\n",
    "    return probability\n",
    "\n",
    "def main():\n",
    "    vector_a = np.array([[2 + 4j], [0 + 2j]])\n",
    "    vector_b = np.array([[9 + 2j], [4 - 6j]])\n",
    "    transition_prob = transition_probability(vector_a, vector_b)\n",
    "    print(f\"La probabilidad de transitar del vector {vector_a.flatten()} al vector {vector_b.flatten()} es: {transition_prob}\")\n",
    "\n",
    "main()"
   ]
  },
  {
   "cell_type": "markdown",
   "metadata": {},
   "source": [
    "# ***Complete los retos de programación del capítulo 4.***\n",
    "\n",
    "**1. Amplitud de transición.**\n",
    "\n",
    "El sistema puede recibir dos vectores y calcular la probabilidad de transitar de el uno al otro después de hacer la observació\n",
    "\n",
    "**Requisitos**:\n",
    "- Recibir dos vectores ket.\n",
    "- Calcular el producto interno entre ambos.\n",
    "- Retornar la amplitud de transición.\n"
   ]
  },
  {
   "cell_type": "code",
   "execution_count": 1,
   "metadata": {},
   "outputs": [
    {
     "name": "stdout",
     "output_type": "stream",
     "text": [
      "Amplitud de transición: (5+3j)\n"
     ]
    }
   ],
   "source": [
    "import numpy as np\n",
    "\n",
    "def amplitud_transicion(ket1, ket2):\n",
    "    # Calcula el producto interno entre dos vectores ket\n",
    "    return np.vdot(ket2, ket1)\n",
    "\n",
    "ket1 = np.array([1+2j, 3+4j])\n",
    "ket2 = np.array([0+1j, 1+0j])\n",
    "\n",
    "amplitud = amplitud_transicion(ket1, ket2)\n",
    "print(\"Amplitud de transición:\", amplitud)"
   ]
  },
  {
   "cell_type": "markdown",
   "metadata": {},
   "source": [
    "**2. la media y la varianza del observable en el estado dado.**\n",
    "\n",
    "Ahora con una matriz que describa un observable y un vector ket, el sistema revisa que la matriz sea hermitiana, y si lo es, calcula la media y la varianza del observable en el estado dado.\n",
    "\n",
    "**Requisitos**:\n",
    "- Verificar si la matriz es hermitiana.\n",
    "- Calcular la media y la varianza del observable en el estado cuántico."
   ]
  },
  {
   "cell_type": "code",
   "execution_count": 2,
   "metadata": {},
   "outputs": [
    {
     "name": "stdout",
     "output_type": "stream",
     "text": [
      "Media: (2+0j)\n",
      "Varianza: (-1+0j)\n"
     ]
    }
   ],
   "source": [
    "import numpy as np\n",
    "\n",
    "def es_hermitiana(matriz):\n",
    "    # Verifica si la matriz es igual a su conjugada transpuesta\n",
    "    return np.allclose(matriz, np.conjugate(matriz.T))\n",
    "\n",
    "def media_varianza_observable(matriz, ket):\n",
    "    if not es_hermitiana(matriz):\n",
    "        raise ValueError(\"La matriz no es hermitiana.\")\n",
    "    \n",
    "    # Calcular la media (valor esperado)\n",
    "    media = np.vdot(ket, np.dot(matriz, ket))\n",
    "\n",
    "    # Calcular la varianza\n",
    "    A2 = np.dot(matriz, matriz)\n",
    "    media_A2 = np.vdot(ket, np.dot(A2, ket))\n",
    "    varianza = media_A2 - np.abs(media) ** 2\n",
    "\n",
    "    return media, varianza\n",
    "\n",
    "matriz = np.array([[1, 1j], [-1j, 2]])\n",
    "ket = np.array([1+1j, 0+1j])\n",
    "\n",
    "media, varianza = media_varianza_observable(matriz, ket)\n",
    "print(\"Media:\", media)\n",
    "print(\"Varianza:\", varianza)\n"
   ]
  },
  {
   "cell_type": "markdown",
   "metadata": {},
   "source": [
    "**3. calcula los valores propios del observable y la probabilidad**\n",
    "\n",
    "El sistema calcula los valores propios del observable y la probabilidad de que el sistema transite a alguno de los vectores propios después de la observación.\n",
    "\n",
    "**Requisitos**:\n",
    "- Comprobar que la matriz es hermitiana.\n",
    "- Calcular los valores propios del observable.\n",
    "- Calcular la probabilidad de que el sistema transite a cada vector propio usando la fórmula:\n",
    "**P(∣ϕ⟩)=∣⟨ϕ∣ψ⟩∣^2**"
   ]
  },
  {
   "cell_type": "code",
   "execution_count": 3,
   "metadata": {},
   "outputs": [
    {
     "name": "stdout",
     "output_type": "stream",
     "text": [
      "Valores propios: [0.38196601 2.61803399]\n",
      "Probabilidades de transición: [np.float64(2.6180339887498945), np.float64(0.3819660112501051)]\n"
     ]
    }
   ],
   "source": [
    "import numpy as np\n",
    "\n",
    "def valores_propios_probabilidad(matriz, ket):\n",
    "    if not es_hermitiana(matriz):\n",
    "        raise ValueError(\"La matriz no es hermitiana.\")\n",
    "    \n",
    "    # Obtener los valores propios y los vectores propios\n",
    "    valores_propios, vectores_propios = np.linalg.eigh(matriz)\n",
    "    \n",
    "    # Calcular las probabilidades de transición a los vectores propios\n",
    "    probabilidades = []\n",
    "    for vec_propio in vectores_propios.T:\n",
    "        probabilidad = np.abs(np.vdot(vec_propio, ket)) ** 2\n",
    "        probabilidades.append(probabilidad)\n",
    "    \n",
    "    return valores_propios, probabilidades\n",
    "\n",
    "matriz = np.array([[1, 1j], [-1j, 2]])\n",
    "ket = np.array([1+1j, 0+1j])\n",
    "\n",
    "valores_propios, probabilidades = valores_propios_probabilidad(matriz, ket)\n",
    "print(\"Valores propios:\", valores_propios)\n",
    "print(\"Probabilidades de transición:\", probabilidades)\n"
   ]
  },
  {
   "cell_type": "markdown",
   "metadata": {},
   "source": [
    "**4. dinámica del sistema.**\n",
    "\n",
    "Se considera la dinámica del sistema. Ahora con una serie de matrices ***Un*** el sistema calcula el estado final a partir de un estado inicial.\n",
    "\n",
    "**Requisitos**:\n",
    "- Recibir una serie de matrices ***Un*** ​ (que pueden ser unitarias).\n",
    "- Aplicar las matrices al vector inicial secuencialmente.\n",
    "- Retornar el estado final del sistema"
   ]
  },
  {
   "cell_type": "code",
   "execution_count": 5,
   "metadata": {},
   "outputs": [
    {
     "name": "stdout",
     "output_type": "stream",
     "text": [
      "Estado final: [ 0.+1.j -1.+0.j]\n"
     ]
    }
   ],
   "source": [
    "import numpy as np\n",
    "\n",
    "def dinamica_sistema(matrices_U, estado_inicial):\n",
    "    estado_final = estado_inicial\n",
    "    for U in matrices_U:\n",
    "        estado_final = np.dot(U, estado_final)\n",
    "    return estado_final\n",
    "\n",
    "U1 = np.array([[0, 1], [1, 0]])  \n",
    "U2 = np.array([[1, 0], [0, -1]])  \n",
    "estado_inicial = np.array([1+0j, 0+1j])\n",
    "\n",
    "matrices_U = [U1, U2]\n",
    "estado_final = dinamica_sistema(matrices_U, estado_inicial)\n",
    "print(\"Estado final:\", estado_final)\n"
   ]
  },
  {
   "cell_type": "markdown",
   "metadata": {},
   "source": [
    "# ***Realice los siguientes problemas e incluyalos como ejemplos***\n",
    "\n",
    "Modele en su librería los problemas\n",
    "\n",
    "**4.3.1**"
   ]
  },
  {
   "cell_type": "code",
   "execution_count": 8,
   "metadata": {},
   "outputs": [
    {
     "data": {
      "text/plain": [
       "(array([0, 1]), np.int64(0), np.int64(1))"
      ]
     },
     "execution_count": 8,
     "metadata": {},
     "output_type": "execute_result"
    }
   ],
   "source": [
    "import numpy as np\n",
    "\n",
    "# Definir el operador Pauli-X (S_x) y los estados de spin hacia arriba y hacia abajo\n",
    "Sx = np.array([[0, 1],\n",
    "               [1, 0]])\n",
    "\n",
    "# Definir el estado de spin hacia arriba |↑⟩ y el estado de spin hacia abajo |↓⟩\n",
    "spin_arriba = np.array([1, 0])\n",
    "spin_abajo = np.array([0, 1])\n",
    "\n",
    "# Aplicar S_x al estado de spin hacia arriba para obtener el nuevo estado\n",
    "nuevo_estado = np.dot(Sx, spin_arriba)\n",
    "\n",
    "# Calcular las probabilidades de colapsar en los estados de spin hacia arriba o hacia abajo después de la medición\n",
    "prob_spin_arriba = np.abs(np.dot(spin_arriba.conj(), nuevo_estado))**2\n",
    "prob_spin_abajo = np.abs(np.dot(spin_abajo.conj(), nuevo_estado))**2\n",
    "\n",
    "# Mostrar el nuevo estado y las probabilidades de colapsar en cada estado\n",
    "nuevo_estado, prob_spin_arriba, prob_spin_abajo\n"
   ]
  },
  {
   "cell_type": "markdown",
   "metadata": {},
   "source": [
    "**4.3.2**"
   ]
  },
  {
   "cell_type": "code",
   "execution_count": 14,
   "metadata": {},
   "outputs": [
    {
     "data": {
      "image/png": "[encoded data removed]",
      "text/plain": [
       "<Figure size 640x480 with 1 Axes>"
      ]
     },
     "metadata": {},
     "output_type": "display_data"
    }
   ],
   "source": [
    "import numpy as np\n",
    "import matplotlib.pyplot as plt\n",
    "\n",
    "# Definir el operador Pauli-X (S_x) y los estados de spin hacia arriba y hacia abajo\n",
    "Sx = np.array([[0, 1],\n",
    "               [1, 0]])\n",
    "\n",
    "# Definir el estado de spin hacia arriba |↑⟩ y el estado de spin hacia abajo |↓⟩\n",
    "spin_arriba = np.array([1, 0])\n",
    "spin_abajo = np.array([0, 1])\n",
    "\n",
    "# Aplicar S_x al estado de spin hacia arriba para obtener el nuevo estado\n",
    "nuevo_estado = np.dot(Sx, spin_arriba)\n",
    "\n",
    "# Calcular las probabilidades de colapsar en los estados de spin hacia arriba o hacia abajo después de la medición\n",
    "prob_spin_arriba = np.abs(np.dot(spin_arriba.conj(), nuevo_estado))**2\n",
    "prob_spin_abajo = np.abs(np.dot(spin_abajo.conj(), nuevo_estado))**2\n",
    "\n",
    "# Definir los valores propios (eigenvalues) asociados con los estados de spin\n",
    "eigenvalues = ['Spin Arriba (↑)', 'Spin Abajo (↓)']\n",
    "probabilidades = [prob_spin_arriba, prob_spin_abajo]\n",
    "\n",
    "# Graficar la distribución de probabilidad\n",
    "plt.bar(eigenvalues, probabilidades, color=['blue', 'orange'])\n",
    "plt.title('Distribución de Probabilidad de los Estados de Spin')\n",
    "plt.xlabel('Estados de Spin')\n",
    "plt.ylabel('Probabilidad')\n",
    "plt.ylim(0, 1)  # Asegurar que el eje y vaya de 0 a 1 para mostrar probabilidades correctamente\n",
    "plt.show()\n"
   ]
  },
  {
   "cell_type": "markdown",
   "metadata": {},
   "source": [
    "**4.4.1**"
   ]
  },
  {
   "cell_type": "code",
   "execution_count": 9,
   "metadata": {},
   "outputs": [
    {
     "data": {
      "text/plain": [
       "(True, True, True)"
      ]
     },
     "execution_count": 9,
     "metadata": {},
     "output_type": "execute_result"
    }
   ],
   "source": [
    "import numpy as np\n",
    "\n",
    "# Definir las matrices U1 y U2\n",
    "U1 = np.array([[0, 1],\n",
    "               [1, 0]])\n",
    "\n",
    "U2 = np.array([[np.sqrt(2)/2, np.sqrt(2)/2],\n",
    "               [np.sqrt(2)/2, -np.sqrt(2)/2]])\n",
    "\n",
    "# Verificar que U1 y U2 son unitarias\n",
    "U1_dagger = U1.conj().T  # Conjugada transpuesta de U1\n",
    "U2_dagger = U2.conj().T  # Conjugada transpuesta de U2\n",
    "\n",
    "# Producto U1 * U1_dagger y U2 * U2_dagger\n",
    "is_U1_unitary = np.allclose(np.dot(U1_dagger, U1), np.eye(2))\n",
    "is_U2_unitary = np.allclose(np.dot(U2_dagger, U2), np.eye(2))\n",
    "\n",
    "# Producto de U1 y U2\n",
    "U_product = np.dot(U1, U2)\n",
    "\n",
    "# Verificar si el producto U1 * U2 es unitario\n",
    "U_product_dagger = U_product.conj().T\n",
    "is_product_unitary = np.allclose(np.dot(U_product_dagger, U_product), np.eye(2))\n",
    "\n",
    "is_U1_unitary, is_U2_unitary, is_product_unitary\n"
   ]
  },
  {
   "cell_type": "markdown",
   "metadata": {},
   "source": [
    "**4.4.2**"
   ]
  },
  {
   "cell_type": "code",
   "execution_count": 12,
   "metadata": {},
   "outputs": [
    {
     "data": {
      "text/plain": [
       "(array([ 0.        +0.j        , -0.70710678+0.70710678j,\n",
       "         0.        +0.j        ,  0.        +0.j        ]),\n",
       " np.float64(0.0))"
      ]
     },
     "execution_count": 12,
     "metadata": {},
     "output_type": "execute_result"
    }
   ],
   "source": [
    "import numpy as np\n",
    "\n",
    "# Definir la matriz unitaria U\n",
    "U = np.array([[0, 1/np.sqrt(2), 1/np.sqrt(2), 0],\n",
    "              [1j/np.sqrt(2), 0, 0, 1/np.sqrt(2)],\n",
    "              [1/np.sqrt(2), 0, 0, 1j/np.sqrt(2)],\n",
    "              [0, 1/np.sqrt(2), -1/np.sqrt(2), 0]])\n",
    "\n",
    "# Estado inicial del sistema\n",
    "psi_initial = np.array([1, 0, 0, 0])\n",
    "\n",
    "# Aplicar U tres veces al estado inicial\n",
    "psi_after_1 = np.dot(U, psi_initial)\n",
    "psi_after_2 = np.dot(U, psi_after_1)\n",
    "psi_after_3 = np.dot(U, psi_after_2)\n",
    "\n",
    "# Calcular la probabilidad de encontrar la partícula en el punto 3\n",
    "# La probabilidad es el valor absoluto al cuadrado del tercer elemento del estado resultante\n",
    "probability_point_3 = np.abs(psi_after_3[2])**2\n",
    "\n",
    "psi_after_3, probability_point_3\n"
   ]
  }
 ],
 "metadata": {
  "kernelspec": {
   "display_name": "Python 3",
   "language": "python",
   "name": "python3"
  },
  "language_info": {
   "codemirror_mode": {
    "name": "ipython",
    "version": 3
   },
   "file_extension": ".py",
   "mimetype": "text/x-python",
   "name": "python",
   "nbconvert_exporter": "python",
   "pygments_lexer": "ipython3",
   "version": "3.12.3"
  }
 },
 "nbformat": 4,
 "nbformat_minor": 2
}
